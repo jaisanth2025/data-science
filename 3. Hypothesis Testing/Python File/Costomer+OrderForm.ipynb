{
 "cells": [
  {
   "cell_type": "code",
   "execution_count": 1,
   "id": "f814d177",
   "metadata": {},
   "outputs": [],
   "source": [
    "import pandas as pd\n",
    "import numpy as np\n",
    "from scipy import stats"
   ]
  },
  {
   "cell_type": "code",
   "execution_count": 2,
   "id": "5eb2197d",
   "metadata": {},
   "outputs": [],
   "source": [
    "df = pd.read_csv(r\"C:\\Users\\mjais\\OneDrive\\Desktop\\Assignments\\3. Hypothesis Testing\\Raw Data\\Costomer+OrderForm.csv\")"
   ]
  },
  {
   "cell_type": "code",
   "execution_count": 3,
   "id": "14049857",
   "metadata": {},
   "outputs": [
    {
     "data": {
      "text/plain": [
       "(3.8589606858203545,\n",
       " 0.2771020991233144,\n",
       " 3,\n",
       " array([[271.75,  28.25],\n",
       "        [271.75,  28.25],\n",
       "        [271.75,  28.25],\n",
       "        [271.75,  28.25]]))"
      ]
     },
     "execution_count": 3,
     "metadata": {},
     "output_type": "execute_result"
    }
   ],
   "source": [
    "stats.chi2_contingency([df['Phillippines'].value_counts(), df['Indonesia'].value_counts(), df['Malta'].value_counts(), df['India'].value_counts()])"
   ]
  },
  {
   "cell_type": "code",
   "execution_count": null,
   "id": "bf0ee1eb",
   "metadata": {},
   "outputs": [],
   "source": [
    "P value of Chi-Square test == 0.277 > α\n",
    "\n",
    "\n",
    "Thus HO is accepted.\n",
    "The defective % does not varies significantly by centres"
   ]
  }
 ],
 "metadata": {
  "kernelspec": {
   "display_name": "Python 3 (ipykernel)",
   "language": "python",
   "name": "python3"
  },
  "language_info": {
   "codemirror_mode": {
    "name": "ipython",
    "version": 3
   },
   "file_extension": ".py",
   "mimetype": "text/x-python",
   "name": "python",
   "nbconvert_exporter": "python",
   "pygments_lexer": "ipython3",
   "version": "3.9.13"
  }
 },
 "nbformat": 4,
 "nbformat_minor": 5
}
